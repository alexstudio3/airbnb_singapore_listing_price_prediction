{
 "cells": [
  {
   "cell_type": "code",
   "execution_count": 1,
   "metadata": {},
   "outputs": [],
   "source": [
    "import pandas as pd\n",
    "import numpy as np\n",
    "import warnings\n",
    "warnings.filterwarnings('ignore')\n",
    "import seaborn as sns"
   ]
  },
  {
   "cell_type": "code",
   "execution_count": 2,
   "metadata": {},
   "outputs": [],
   "source": [
    "file1 = pd.read_csv('listings.csv')"
   ]
  },
  {
   "cell_type": "markdown",
   "metadata": {},
   "source": [
    "# Data cleaning"
   ]
  },
  {
   "cell_type": "code",
   "execution_count": 3,
   "metadata": {},
   "outputs": [],
   "source": [
    "# drop obvious unneccessary columns\n",
    "cols_to_drop = ['id', 'listing_url', 'scrape_id', 'last_scraped', 'name','description','neighborhood_overview',''\n",
    "'picture_url', 'host_id','host_url', 'host_name', 'host_location','host_about', 'host_thumbnail_url', \n",
    "'host_picture_url', 'host_neighbourhood', 'host_verifications', 'neighbourhood', \n",
    "'bathrooms', 'amenities', 'calendar_updated', 'calendar_last_scraped', 'license', \n",
    "'minimum_minimum_nights', 'maximum_minimum_nights', 'minimum_maximum_nights', \n",
    "'maximum_maximum_nights', 'minimum_nights_avg_ntm', 'maximum_nights_avg_ntm']\n"
   ]
  },
  {
   "cell_type": "code",
   "execution_count": 4,
   "metadata": {},
   "outputs": [],
   "source": [
    "df4 = file1.drop(columns=cols_to_drop, axis = 1)"
   ]
  },
  {
   "cell_type": "code",
   "execution_count": 5,
   "metadata": {},
   "outputs": [],
   "source": [
    "df4['review_scores_rating'].fillna(0, inplace=True)\n",
    "df4['review_scores_rating'] = np.where(df4['review_scores_rating'] == 0, 0, 1)"
   ]
  },
  {
   "cell_type": "code",
   "execution_count": 6,
   "metadata": {},
   "outputs": [],
   "source": [
    "# df4['bedrooms'].fillna(1, inplace=True)\n",
    "# df4['beds'].fillna(1, inplace=True)\n",
    "# df4['bathrooms_text'].fillna(0, inplace=True)"
   ]
  },
  {
   "cell_type": "code",
   "execution_count": 7,
   "metadata": {},
   "outputs": [],
   "source": [
    "# df4 = df4.astype({\"host_response_rate\": str})\n",
    "\n",
    "# df4['host_response_rate'] = df4['host_response_rate'].str[:-1]\n",
    "# df4['host_response_rate'] = pd.to_numeric(df4['host_response_rate'], errors='coerce')/100\n",
    "# df4['host_response_rate'].fillna(0, inplace=True)"
   ]
  },
  {
   "cell_type": "code",
   "execution_count": 8,
   "metadata": {},
   "outputs": [],
   "source": [
    "# df4 = df4.astype({\"host_acceptance_rate\": str})\n",
    "\n",
    "# df4['host_acceptance_rate'] = df4['host_acceptance_rate'].str[:-1]\n",
    "# df4['host_acceptance_rate'] = pd.to_numeric(df4['host_acceptance_rate'], errors='coerce')/100\n",
    "# df4['host_acceptance_rate'].fillna(0, inplace=True)"
   ]
  },
  {
   "cell_type": "code",
   "execution_count": 9,
   "metadata": {},
   "outputs": [],
   "source": [
    "df4 = df4.astype({\"price\": str})\n",
    "df4['price'] = df4['price'].str.lstrip('$')\n",
    "# 1,000.00\n",
    "df4['price'] = df4['price'].str.replace(',','')\n",
    "df4 = df4.astype({\"price\": float})\n"
   ]
  },
  {
   "cell_type": "code",
   "execution_count": 10,
   "metadata": {},
   "outputs": [],
   "source": [
    "df4.to_csv('cleaned_listings.csv')"
   ]
  }
 ],
 "metadata": {
  "kernelspec": {
   "display_name": "Python 3",
   "language": "python",
   "name": "python3"
  },
  "language_info": {
   "codemirror_mode": {
    "name": "ipython",
    "version": 3
   },
   "file_extension": ".py",
   "mimetype": "text/x-python",
   "name": "python",
   "nbconvert_exporter": "python",
   "pygments_lexer": "ipython3",
   "version": "3.7.6"
  }
 },
 "nbformat": 4,
 "nbformat_minor": 4
}
